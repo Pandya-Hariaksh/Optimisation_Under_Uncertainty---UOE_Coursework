{
 "cells": [
  {
   "cell_type": "code",
   "execution_count": 1,
   "id": "858e3bfa",
   "metadata": {},
   "outputs": [],
   "source": [
    "import numpy as np\n",
    "np. random.seed(111) \n",
    "D = np.random.uniform(40 ,80, 5000)"
   ]
  },
  {
   "cell_type": "code",
   "execution_count": 2,
   "id": "e1eb36f5",
   "metadata": {},
   "outputs": [],
   "source": [
    "def compute_cost(x1,x2):\n",
    "    term1 = 10*x1 + 15*x2\n",
    "    term2 = np.mean((5*np.maximum(0, D - (8*x1 + 20 * x2))**2)/(1+np.abs(D-50)))\n",
    "    return term1 + term2"
   ]
  },
  {
   "cell_type": "code",
   "execution_count": 3,
   "id": "989b4670",
   "metadata": {},
   "outputs": [],
   "source": [
    "solutions = [(x1,x2) for x1 in range(6) for x2 in range(4)]\n",
    "results = [(x1,x2,compute_cost(x1,x2)) for x1,x2 in solutions]\n",
    "optimal_solution = min(results, key=lambda x: x[2])"
   ]
  },
  {
   "cell_type": "code",
   "execution_count": 7,
   "id": "deb2918d",
   "metadata": {},
   "outputs": [
    {
     "name": "stdout",
     "output_type": "stream",
     "text": [
      " Optimal Solution :\n",
      "x1 = 1 , x2 = 3 \n",
      " Expected Cost = 57.62\n"
     ]
    }
   ],
   "source": [
    "#print(results)\n",
    "print (\" Optimal Solution :\")\n",
    "print (f\"x1 = { optimal_solution [0]} , x2 = { optimal_solution [1]} \")\n",
    "print (f\" Expected Cost = { optimal_solution [2]:.2f}\")"
   ]
  }
 ],
 "metadata": {
  "kernelspec": {
   "display_name": "base",
   "language": "python",
   "name": "python3"
  },
  "language_info": {
   "codemirror_mode": {
    "name": "ipython",
    "version": 3
   },
   "file_extension": ".py",
   "mimetype": "text/x-python",
   "name": "python",
   "nbconvert_exporter": "python",
   "pygments_lexer": "ipython3",
   "version": "3.12.3"
  }
 },
 "nbformat": 4,
 "nbformat_minor": 5
}
